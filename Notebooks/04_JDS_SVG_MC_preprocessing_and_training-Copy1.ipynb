{
 "cells": [
  {
   "cell_type": "code",
   "execution_count": 1,
   "metadata": {},
   "outputs": [],
   "source": [
    "%matplotlib inline\n",
    "import numpy as np\n",
    "import scipy as sp\n",
    "import matplotlib as mpl\n",
    "import matplotlib.cm as cm\n",
    "from matplotlib.colors import ListedColormap\n",
    "import matplotlib.pyplot as plt\n",
    "import pandas as pd\n",
    "pd.set_option('display.width', 500)\n",
    "pd.set_option('display.max_columns', 100)\n",
    "pd.set_option('display.notebook_repr_html', True)\n",
    "import seaborn as sns\n",
    "sns.set_style(\"whitegrid\")\n",
    "sns.set_context(\"poster\")\n",
    "import sklearn.model_selection\n",
    "import os\n",
    "import pickle\n",
    "from sklearn import __version__ as sklearn_version\n",
    "from sklearn.decomposition import PCA\n",
    "from sklearn.preprocessing import scale\n",
    "from sklearn.model_selection import train_test_split, cross_validate, GridSearchCV, learning_curve\n",
    "from sklearn.preprocessing import StandardScaler, MinMaxScaler\n",
    "from sklearn.dummy import DummyRegressor\n",
    "from sklearn.linear_model import LinearRegression\n",
    "from sklearn.ensemble import RandomForestRegressor\n",
    "from sklearn.metrics import r2_score, mean_squared_error, mean_absolute_error\n",
    "from sklearn.linear_model import LogisticRegression\n",
    "from sklearn.metrics import accuracy_score\n",
    "from sklearn.pipeline import make_pipeline\n",
    "from sklearn.impute import SimpleImputer\n",
    "from sklearn.feature_selection import SelectKBest, f_regression\n",
    "from sklearn.model_selection import KFold\n",
    "from sklearn.metrics import accuracy_score\n",
    "from sklearn.model_selection import GridSearchCV\n",
    "from sklearn.metrics import roc_curve\n",
    "from sklearn.metrics import roc_auc_score\n",
    "import datetime\n",
    "from library.sb_utils import save_file"
   ]
  },
  {
   "cell_type": "code",
   "execution_count": 2,
   "metadata": {},
   "outputs": [
    {
     "data": {
      "text/html": [
       "<div>\n",
       "<style scoped>\n",
       "    .dataframe tbody tr th:only-of-type {\n",
       "        vertical-align: middle;\n",
       "    }\n",
       "\n",
       "    .dataframe tbody tr th {\n",
       "        vertical-align: top;\n",
       "    }\n",
       "\n",
       "    .dataframe thead th {\n",
       "        text-align: right;\n",
       "    }\n",
       "</style>\n",
       "<table border=\"1\" class=\"dataframe\">\n",
       "  <thead>\n",
       "    <tr style=\"text-align: right;\">\n",
       "      <th></th>\n",
       "      <th>match_id</th>\n",
       "      <th>lead_id</th>\n",
       "      <th>agent_id</th>\n",
       "      <th>email_score</th>\n",
       "      <th>phone_score</th>\n",
       "      <th>contact_score</th>\n",
       "      <th>block_score</th>\n",
       "      <th>contact</th>\n",
       "      <th>app</th>\n",
       "    </tr>\n",
       "  </thead>\n",
       "  <tbody>\n",
       "    <tr>\n",
       "      <td>0</td>\n",
       "      <td>40667</td>\n",
       "      <td>12289</td>\n",
       "      <td>174</td>\n",
       "      <td>10.0</td>\n",
       "      <td>62</td>\n",
       "      <td>36.0</td>\n",
       "      <td>47.949</td>\n",
       "      <td>0</td>\n",
       "      <td>0</td>\n",
       "    </tr>\n",
       "    <tr>\n",
       "      <td>1</td>\n",
       "      <td>144108</td>\n",
       "      <td>30625</td>\n",
       "      <td>176</td>\n",
       "      <td>95.0</td>\n",
       "      <td>98</td>\n",
       "      <td>96.5</td>\n",
       "      <td>73.384</td>\n",
       "      <td>0</td>\n",
       "      <td>0</td>\n",
       "    </tr>\n",
       "    <tr>\n",
       "      <td>2</td>\n",
       "      <td>4314</td>\n",
       "      <td>4446</td>\n",
       "      <td>91</td>\n",
       "      <td>85.0</td>\n",
       "      <td>98</td>\n",
       "      <td>91.5</td>\n",
       "      <td>58.878</td>\n",
       "      <td>0</td>\n",
       "      <td>0</td>\n",
       "    </tr>\n",
       "    <tr>\n",
       "      <td>3</td>\n",
       "      <td>89955</td>\n",
       "      <td>20851</td>\n",
       "      <td>228</td>\n",
       "      <td>85.0</td>\n",
       "      <td>99</td>\n",
       "      <td>92.0</td>\n",
       "      <td>55.408</td>\n",
       "      <td>0</td>\n",
       "      <td>0</td>\n",
       "    </tr>\n",
       "    <tr>\n",
       "      <td>4</td>\n",
       "      <td>77985</td>\n",
       "      <td>20544</td>\n",
       "      <td>168</td>\n",
       "      <td>85.0</td>\n",
       "      <td>50</td>\n",
       "      <td>67.5</td>\n",
       "      <td>77.282</td>\n",
       "      <td>0</td>\n",
       "      <td>0</td>\n",
       "    </tr>\n",
       "  </tbody>\n",
       "</table>\n",
       "</div>"
      ],
      "text/plain": [
       "   match_id  lead_id  agent_id  email_score  phone_score  contact_score  block_score  contact  app\n",
       "0     40667    12289       174         10.0           62           36.0       47.949        0    0\n",
       "1    144108    30625       176         95.0           98           96.5       73.384        0    0\n",
       "2      4314     4446        91         85.0           98           91.5       58.878        0    0\n",
       "3     89955    20851       228         85.0           99           92.0       55.408        0    0\n",
       "4     77985    20544       168         85.0           50           67.5       77.282        0    0"
      ]
     },
     "execution_count": 2,
     "metadata": {},
     "output_type": "execute_result"
    }
   ],
   "source": [
    "feature_data = pd.read_csv('../data/jds_features.csv')\n",
    "feature_data.head()"
   ]
  },
  {
   "cell_type": "code",
   "execution_count": 3,
   "metadata": {},
   "outputs": [
    {
     "data": {
      "text/plain": [
       "match_id         False\n",
       "lead_id          False\n",
       "agent_id         False\n",
       "email_score      False\n",
       "phone_score      False\n",
       "contact_score    False\n",
       "block_score      False\n",
       "contact          False\n",
       "app              False\n",
       "dtype: bool"
      ]
     },
     "execution_count": 3,
     "metadata": {},
     "output_type": "execute_result"
    }
   ],
   "source": [
    "feature_data.isnull().any()"
   ]
  },
  {
   "cell_type": "code",
   "execution_count": 4,
   "metadata": {},
   "outputs": [
    {
     "name": "stdout",
     "output_type": "stream",
     "text": [
      "(147222, 9)\n",
      "(18689, 9)\n"
     ]
    }
   ],
   "source": [
    "## Extract contacted leads for model\n",
    "contacted_leads = feature_data[feature_data['contact'] == 1]\n",
    "contacted_leads.reset_index(drop = True, inplace = True)\n",
    "print(feature_data.shape)\n",
    "print(contacted_leads.shape)"
   ]
  },
  {
   "cell_type": "code",
   "execution_count": 5,
   "metadata": {},
   "outputs": [
    {
     "data": {
      "text/html": [
       "<div>\n",
       "<style scoped>\n",
       "    .dataframe tbody tr th:only-of-type {\n",
       "        vertical-align: middle;\n",
       "    }\n",
       "\n",
       "    .dataframe tbody tr th {\n",
       "        vertical-align: top;\n",
       "    }\n",
       "\n",
       "    .dataframe thead th {\n",
       "        text-align: right;\n",
       "    }\n",
       "</style>\n",
       "<table border=\"1\" class=\"dataframe\">\n",
       "  <thead>\n",
       "    <tr style=\"text-align: right;\">\n",
       "      <th></th>\n",
       "      <th>match_id</th>\n",
       "      <th>lead_id</th>\n",
       "      <th>agent_id</th>\n",
       "      <th>email_score</th>\n",
       "      <th>phone_score</th>\n",
       "      <th>contact_score</th>\n",
       "      <th>block_score</th>\n",
       "      <th>contact</th>\n",
       "      <th>app</th>\n",
       "    </tr>\n",
       "  </thead>\n",
       "  <tbody>\n",
       "    <tr>\n",
       "      <td>18684</td>\n",
       "      <td>132655</td>\n",
       "      <td>34142</td>\n",
       "      <td>230</td>\n",
       "      <td>80.0</td>\n",
       "      <td>68</td>\n",
       "      <td>74.0</td>\n",
       "      <td>72.635</td>\n",
       "      <td>1</td>\n",
       "      <td>0</td>\n",
       "    </tr>\n",
       "    <tr>\n",
       "      <td>18685</td>\n",
       "      <td>117320</td>\n",
       "      <td>28132</td>\n",
       "      <td>206</td>\n",
       "      <td>80.0</td>\n",
       "      <td>98</td>\n",
       "      <td>89.0</td>\n",
       "      <td>68.594</td>\n",
       "      <td>1</td>\n",
       "      <td>0</td>\n",
       "    </tr>\n",
       "    <tr>\n",
       "      <td>18686</td>\n",
       "      <td>28938</td>\n",
       "      <td>11026</td>\n",
       "      <td>192</td>\n",
       "      <td>85.0</td>\n",
       "      <td>92</td>\n",
       "      <td>88.5</td>\n",
       "      <td>57.353</td>\n",
       "      <td>1</td>\n",
       "      <td>0</td>\n",
       "    </tr>\n",
       "    <tr>\n",
       "      <td>18687</td>\n",
       "      <td>60304</td>\n",
       "      <td>17635</td>\n",
       "      <td>145</td>\n",
       "      <td>85.0</td>\n",
       "      <td>99</td>\n",
       "      <td>92.0</td>\n",
       "      <td>51.931</td>\n",
       "      <td>1</td>\n",
       "      <td>0</td>\n",
       "    </tr>\n",
       "    <tr>\n",
       "      <td>18688</td>\n",
       "      <td>23152</td>\n",
       "      <td>7835</td>\n",
       "      <td>131</td>\n",
       "      <td>60.0</td>\n",
       "      <td>19</td>\n",
       "      <td>39.5</td>\n",
       "      <td>61.039</td>\n",
       "      <td>1</td>\n",
       "      <td>0</td>\n",
       "    </tr>\n",
       "  </tbody>\n",
       "</table>\n",
       "</div>"
      ],
      "text/plain": [
       "       match_id  lead_id  agent_id  email_score  phone_score  contact_score  block_score  contact  app\n",
       "18684    132655    34142       230         80.0           68           74.0       72.635        1    0\n",
       "18685    117320    28132       206         80.0           98           89.0       68.594        1    0\n",
       "18686     28938    11026       192         85.0           92           88.5       57.353        1    0\n",
       "18687     60304    17635       145         85.0           99           92.0       51.931        1    0\n",
       "18688     23152     7835       131         60.0           19           39.5       61.039        1    0"
      ]
     },
     "execution_count": 5,
     "metadata": {},
     "output_type": "execute_result"
    }
   ],
   "source": [
    "contacted_leads.tail()"
   ]
  },
  {
   "cell_type": "code",
   "execution_count": 6,
   "metadata": {},
   "outputs": [
    {
     "data": {
      "text/plain": [
       "match_id         False\n",
       "lead_id          False\n",
       "agent_id         False\n",
       "email_score      False\n",
       "phone_score      False\n",
       "contact_score    False\n",
       "block_score      False\n",
       "contact          False\n",
       "app              False\n",
       "dtype: bool"
      ]
     },
     "execution_count": 6,
     "metadata": {},
     "output_type": "execute_result"
    }
   ],
   "source": [
    "contacted_leads.isnull().any()"
   ]
  },
  {
   "cell_type": "code",
   "execution_count": 7,
   "metadata": {},
   "outputs": [
    {
     "data": {
      "text/plain": [
       "(13082.3, 5606.7)"
      ]
     },
     "execution_count": 7,
     "metadata": {},
     "output_type": "execute_result"
    }
   ],
   "source": [
    "## Do a 70/30 split for training and testing\n",
    "len(contacted_leads) * .7, len(contacted_leads) * .3"
   ]
  },
  {
   "cell_type": "code",
   "execution_count": 26,
   "metadata": {},
   "outputs": [],
   "source": [
    "X_train, X_test, y_train, y_test = train_test_split(contacted_leads.drop(columns = 'app'),\n",
    "                                                    contacted_leads['app'], test_size = 0.3,\n",
    "                                                    random_state = 42)"
   ]
  },
  {
   "cell_type": "code",
   "execution_count": 9,
   "metadata": {},
   "outputs": [
    {
     "data": {
      "text/plain": [
       "((13082, 8), (5607, 8))"
      ]
     },
     "execution_count": 9,
     "metadata": {},
     "output_type": "execute_result"
    }
   ],
   "source": [
    "X_train.shape, X_test.shape"
   ]
  },
  {
   "cell_type": "code",
   "execution_count": 10,
   "metadata": {},
   "outputs": [
    {
     "data": {
      "text/plain": [
       "((13082,), (5607,))"
      ]
     },
     "execution_count": 10,
     "metadata": {},
     "output_type": "execute_result"
    }
   ],
   "source": [
    "y_train.shape, y_test.shape"
   ]
  },
  {
   "cell_type": "code",
   "execution_count": 27,
   "metadata": {},
   "outputs": [
    {
     "data": {
      "text/plain": [
       "((13082, 4), (5607, 4))"
      ]
     },
     "execution_count": 27,
     "metadata": {},
     "output_type": "execute_result"
    }
   ],
   "source": [
    "## Drop non-numeric/non-features\n",
    "non_feature_list = ['match_id', 'lead_id', 'agent_id', 'contact']\n",
    "non_feature_train = X_train[non_feature_list]\n",
    "non_feature_test = X_test[non_feature_list]\n",
    "\n",
    "X_train.drop(columns = non_feature_list, inplace = True)\n",
    "X_test.drop(columns = non_feature_list, inplace = True)\n",
    "X_train.shape, X_test.shape"
   ]
  },
  {
   "cell_type": "code",
   "execution_count": 12,
   "metadata": {},
   "outputs": [
    {
     "data": {
      "text/plain": [
       "email_score      float64\n",
       "phone_score        int64\n",
       "contact_score    float64\n",
       "block_score      float64\n",
       "dtype: object"
      ]
     },
     "execution_count": 12,
     "metadata": {},
     "output_type": "execute_result"
    }
   ],
   "source": [
    "X_train.dtypes"
   ]
  },
  {
   "cell_type": "code",
   "execution_count": 13,
   "metadata": {},
   "outputs": [
    {
     "data": {
      "text/plain": [
       "email_score      float64\n",
       "phone_score        int64\n",
       "contact_score    float64\n",
       "block_score      float64\n",
       "dtype: object"
      ]
     },
     "execution_count": 13,
     "metadata": {},
     "output_type": "execute_result"
    }
   ],
   "source": [
    "X_test.dtypes"
   ]
  },
  {
   "cell_type": "code",
   "execution_count": 28,
   "metadata": {},
   "outputs": [
    {
     "data": {
      "text/plain": [
       "0.942215088282504"
      ]
     },
     "execution_count": 28,
     "metadata": {},
     "output_type": "execute_result"
    }
   ],
   "source": [
    "## Basic logistic regression\n",
    "clf = LogisticRegression(solver = 'lbfgs')\n",
    "clf.fit(X_train, y_train)\n",
    "accuracy_score(clf.predict(X_test), y_test)"
   ]
  },
  {
   "cell_type": "code",
   "execution_count": 29,
   "metadata": {},
   "outputs": [
    {
     "name": "stdout",
     "output_type": "stream",
     "text": [
      "Best Parameters:  {'C': 0.001}\n"
     ]
    }
   ],
   "source": [
    "## Grid search with cross validation to tune model\n",
    "Cs = [0.001, 0.1, 1, 10, 100]\n",
    "parameters = {'C':Cs}\n",
    "clf = LogisticRegression(solver = 'lbfgs')\n",
    "grid_cv = GridSearchCV(clf, parameters, cv = 10)\n",
    "grid_cv.fit(X_train, y_train)\n",
    "print('Best Parameters: ', grid_cv.best_params_)"
   ]
  },
  {
   "cell_type": "code",
   "execution_count": 30,
   "metadata": {},
   "outputs": [
    {
     "data": {
      "text/plain": [
       "0.942215088282504"
      ]
     },
     "execution_count": 30,
     "metadata": {},
     "output_type": "execute_result"
    }
   ],
   "source": [
    "clf = LogisticRegression(C = 0.001, solver = 'lbfgs')\n",
    "clf.fit(X_train, y_train)\n",
    "accuracy_score(clf.predict(X_test), y_test)"
   ]
  },
  {
   "cell_type": "code",
   "execution_count": 17,
   "metadata": {},
   "outputs": [],
   "source": [
    "LR_pipe = make_pipeline(\n",
    "    LogisticRegression(C = 0.001, solver = 'lbfgs')\n",
    ")"
   ]
  },
  {
   "cell_type": "code",
   "execution_count": 18,
   "metadata": {},
   "outputs": [],
   "source": [
    "## Save model\n",
    "best_model = LR_pipe\n",
    "best_model.version = '1.0'\n",
    "best_model.pandas_version = pd.__version__\n",
    "best_model.numpy_version = np.__version__\n",
    "best_model.sklearn_version = sklearn_version\n",
    "best_model.X_columns = [col for col in X_train.columns]\n",
    "best_model.build_datetime = datetime.datetime.now()"
   ]
  },
  {
   "cell_type": "code",
   "execution_count": 19,
   "metadata": {},
   "outputs": [
    {
     "name": "stdout",
     "output_type": "stream",
     "text": [
      "A file already exists with this name.\n",
      "\n",
      "Do you want to overwrite? (Y/N)Y\n",
      "Writing file.  \"../models\\lead_data_prediction_score.pkl\"\n"
     ]
    }
   ],
   "source": [
    "modelpath = '../models'\n",
    "save_file(best_model, 'lead_data_prediction_score.pkl', modelpath)"
   ]
  },
  {
   "cell_type": "code",
   "execution_count": 31,
   "metadata": {},
   "outputs": [],
   "source": [
    "## Train on rest of data\n",
    "uncontacted_leads = feature_data[feature_data['contact'] == 0]\n",
    "X_train, X_test, y_train, y_test = train_test_split(uncontacted_leads.drop(columns = 'app'),\n",
    "                                                    uncontacted_leads['app'], test_size = 0.3,\n",
    "                                                    random_state = 42)\n",
    "X_test.drop(columns = non_feature_list, inplace = True)"
   ]
  },
  {
   "cell_type": "code",
   "execution_count": 32,
   "metadata": {},
   "outputs": [
    {
     "data": {
      "text/html": [
       "<div>\n",
       "<style scoped>\n",
       "    .dataframe tbody tr th:only-of-type {\n",
       "        vertical-align: middle;\n",
       "    }\n",
       "\n",
       "    .dataframe tbody tr th {\n",
       "        vertical-align: top;\n",
       "    }\n",
       "\n",
       "    .dataframe thead th {\n",
       "        text-align: right;\n",
       "    }\n",
       "</style>\n",
       "<table border=\"1\" class=\"dataframe\">\n",
       "  <thead>\n",
       "    <tr style=\"text-align: right;\">\n",
       "      <th></th>\n",
       "      <th>0</th>\n",
       "    </tr>\n",
       "  </thead>\n",
       "  <tbody>\n",
       "  </tbody>\n",
       "</table>\n",
       "</div>"
      ],
      "text/plain": [
       "Empty DataFrame\n",
       "Columns: [0]\n",
       "Index: []"
      ]
     },
     "execution_count": 32,
     "metadata": {},
     "output_type": "execute_result"
    }
   ],
   "source": [
    "result = pd.DataFrame(clf.predict(X_test))\n",
    "result[result[0] == 1]"
   ]
  },
  {
   "cell_type": "code",
   "execution_count": null,
   "metadata": {},
   "outputs": [],
   "source": []
  }
 ],
 "metadata": {
  "kernelspec": {
   "display_name": "Python 3",
   "language": "python",
   "name": "python3"
  },
  "language_info": {
   "codemirror_mode": {
    "name": "ipython",
    "version": 3
   },
   "file_extension": ".py",
   "mimetype": "text/x-python",
   "name": "python",
   "nbconvert_exporter": "python",
   "pygments_lexer": "ipython3",
   "version": "3.7.4"
  }
 },
 "nbformat": 4,
 "nbformat_minor": 2
}
