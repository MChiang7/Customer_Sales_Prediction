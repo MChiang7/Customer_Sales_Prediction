{
 "cells": [
  {
   "cell_type": "code",
   "execution_count": 2,
   "metadata": {},
   "outputs": [],
   "source": [
    "%matplotlib inline\n",
    "import numpy as np\n",
    "import matplotlib as mpl\n",
    "import matplotlib.cm as cm\n",
    "from matplotlib.colors import ListedColormap\n",
    "import matplotlib.pyplot as plt\n",
    "import pandas as pd\n",
    "pd.set_option('display.width', 500)\n",
    "pd.set_option('display.max_columns', 100)\n",
    "pd.set_option('display.notebook_repr_html', True)\n",
    "import seaborn as sns\n",
    "sns.set_style(\"whitegrid\")\n",
    "sns.set_context(\"poster\")\n",
    "import sklearn.model_selection\n",
    "import os\n",
    "import pickle\n",
    "from sklearn import __version__ as sklearn_version\n",
    "from sklearn.preprocessing import scale\n",
    "from sklearn.model_selection import train_test_split, cross_validate, GridSearchCV, learning_curve\n",
    "from sklearn.preprocessing import StandardScaler, MinMaxScaler\n",
    "from sklearn.pipeline import make_pipeline\n",
    "from sklearn.impute import SimpleImputer\n",
    "from sklearn.neighbors import KNeighborsClassifier\n",
    "from sklearn.metrics import classification_report, confusion_matrix\n",
    "from sklearn.impute import SimpleImputer\n",
    "from sklearn import metrics\n",
    "from sklearn.model_selection import cross_val_score\n",
    "import datetime\n",
    "from library.sb_utils import save_file"
   ]
  },
  {
   "cell_type": "code",
   "execution_count": 3,
   "metadata": {},
   "outputs": [
    {
     "data": {
      "text/html": [
       "<div>\n",
       "<style scoped>\n",
       "    .dataframe tbody tr th:only-of-type {\n",
       "        vertical-align: middle;\n",
       "    }\n",
       "\n",
       "    .dataframe tbody tr th {\n",
       "        vertical-align: top;\n",
       "    }\n",
       "\n",
       "    .dataframe thead th {\n",
       "        text-align: right;\n",
       "    }\n",
       "</style>\n",
       "<table border=\"1\" class=\"dataframe\">\n",
       "  <thead>\n",
       "    <tr style=\"text-align: right;\">\n",
       "      <th></th>\n",
       "      <th>match_id</th>\n",
       "      <th>lead_id</th>\n",
       "      <th>agent_id</th>\n",
       "      <th>email_score</th>\n",
       "      <th>phone_score</th>\n",
       "      <th>contact_score</th>\n",
       "      <th>block_score</th>\n",
       "      <th>contact</th>\n",
       "      <th>app</th>\n",
       "    </tr>\n",
       "  </thead>\n",
       "  <tbody>\n",
       "    <tr>\n",
       "      <td>0</td>\n",
       "      <td>40667</td>\n",
       "      <td>12289</td>\n",
       "      <td>174</td>\n",
       "      <td>10.0</td>\n",
       "      <td>62</td>\n",
       "      <td>36.0</td>\n",
       "      <td>47.949</td>\n",
       "      <td>0</td>\n",
       "      <td>0</td>\n",
       "    </tr>\n",
       "    <tr>\n",
       "      <td>1</td>\n",
       "      <td>144108</td>\n",
       "      <td>30625</td>\n",
       "      <td>176</td>\n",
       "      <td>95.0</td>\n",
       "      <td>98</td>\n",
       "      <td>96.5</td>\n",
       "      <td>73.384</td>\n",
       "      <td>0</td>\n",
       "      <td>0</td>\n",
       "    </tr>\n",
       "    <tr>\n",
       "      <td>2</td>\n",
       "      <td>4314</td>\n",
       "      <td>4446</td>\n",
       "      <td>91</td>\n",
       "      <td>85.0</td>\n",
       "      <td>98</td>\n",
       "      <td>91.5</td>\n",
       "      <td>58.878</td>\n",
       "      <td>0</td>\n",
       "      <td>0</td>\n",
       "    </tr>\n",
       "    <tr>\n",
       "      <td>3</td>\n",
       "      <td>89955</td>\n",
       "      <td>20851</td>\n",
       "      <td>228</td>\n",
       "      <td>85.0</td>\n",
       "      <td>99</td>\n",
       "      <td>92.0</td>\n",
       "      <td>55.408</td>\n",
       "      <td>0</td>\n",
       "      <td>0</td>\n",
       "    </tr>\n",
       "    <tr>\n",
       "      <td>4</td>\n",
       "      <td>77985</td>\n",
       "      <td>20544</td>\n",
       "      <td>168</td>\n",
       "      <td>85.0</td>\n",
       "      <td>50</td>\n",
       "      <td>67.5</td>\n",
       "      <td>77.282</td>\n",
       "      <td>0</td>\n",
       "      <td>0</td>\n",
       "    </tr>\n",
       "  </tbody>\n",
       "</table>\n",
       "</div>"
      ],
      "text/plain": [
       "   match_id  lead_id  agent_id  email_score  phone_score  contact_score  block_score  contact  app\n",
       "0     40667    12289       174         10.0           62           36.0       47.949        0    0\n",
       "1    144108    30625       176         95.0           98           96.5       73.384        0    0\n",
       "2      4314     4446        91         85.0           98           91.5       58.878        0    0\n",
       "3     89955    20851       228         85.0           99           92.0       55.408        0    0\n",
       "4     77985    20544       168         85.0           50           67.5       77.282        0    0"
      ]
     },
     "execution_count": 3,
     "metadata": {},
     "output_type": "execute_result"
    }
   ],
   "source": [
    "feature_data = pd.read_csv('../data/jds_features.csv')\n",
    "feature_data.head()"
   ]
  },
  {
   "cell_type": "code",
   "execution_count": 4,
   "metadata": {},
   "outputs": [
    {
     "data": {
      "text/plain": [
       "match_id         False\n",
       "lead_id          False\n",
       "agent_id         False\n",
       "email_score      False\n",
       "phone_score      False\n",
       "contact_score    False\n",
       "block_score      False\n",
       "contact          False\n",
       "app              False\n",
       "dtype: bool"
      ]
     },
     "execution_count": 4,
     "metadata": {},
     "output_type": "execute_result"
    }
   ],
   "source": [
    "feature_data.isnull().any()"
   ]
  },
  {
   "cell_type": "code",
   "execution_count": 6,
   "metadata": {},
   "outputs": [
    {
     "name": "stdout",
     "output_type": "stream",
     "text": [
      "(147222, 9)\n",
      "(18233, 9)\n"
     ]
    }
   ],
   "source": [
    "## Extract contacted leads for model\n",
    "contacted_leads = feature_data[feature_data['contact'] == 1].copy()\n",
    "contacted_leads.drop_duplicates(subset = 'lead_id', inplace = True)\n",
    "contacted_leads.reset_index(drop = True, inplace = True)\n",
    "print(feature_data.shape)\n",
    "print(contacted_leads.shape)"
   ]
  },
  {
   "cell_type": "code",
   "execution_count": 7,
   "metadata": {},
   "outputs": [
    {
     "data": {
      "text/html": [
       "<div>\n",
       "<style scoped>\n",
       "    .dataframe tbody tr th:only-of-type {\n",
       "        vertical-align: middle;\n",
       "    }\n",
       "\n",
       "    .dataframe tbody tr th {\n",
       "        vertical-align: top;\n",
       "    }\n",
       "\n",
       "    .dataframe thead th {\n",
       "        text-align: right;\n",
       "    }\n",
       "</style>\n",
       "<table border=\"1\" class=\"dataframe\">\n",
       "  <thead>\n",
       "    <tr style=\"text-align: right;\">\n",
       "      <th></th>\n",
       "      <th>match_id</th>\n",
       "      <th>lead_id</th>\n",
       "      <th>agent_id</th>\n",
       "      <th>email_score</th>\n",
       "      <th>phone_score</th>\n",
       "      <th>contact_score</th>\n",
       "      <th>block_score</th>\n",
       "      <th>contact</th>\n",
       "      <th>app</th>\n",
       "    </tr>\n",
       "  </thead>\n",
       "  <tbody>\n",
       "    <tr>\n",
       "      <td>18228</td>\n",
       "      <td>132655</td>\n",
       "      <td>34142</td>\n",
       "      <td>230</td>\n",
       "      <td>80.0</td>\n",
       "      <td>68</td>\n",
       "      <td>74.0</td>\n",
       "      <td>72.635</td>\n",
       "      <td>1</td>\n",
       "      <td>0</td>\n",
       "    </tr>\n",
       "    <tr>\n",
       "      <td>18229</td>\n",
       "      <td>117320</td>\n",
       "      <td>28132</td>\n",
       "      <td>206</td>\n",
       "      <td>80.0</td>\n",
       "      <td>98</td>\n",
       "      <td>89.0</td>\n",
       "      <td>68.594</td>\n",
       "      <td>1</td>\n",
       "      <td>0</td>\n",
       "    </tr>\n",
       "    <tr>\n",
       "      <td>18230</td>\n",
       "      <td>28938</td>\n",
       "      <td>11026</td>\n",
       "      <td>192</td>\n",
       "      <td>85.0</td>\n",
       "      <td>92</td>\n",
       "      <td>88.5</td>\n",
       "      <td>57.353</td>\n",
       "      <td>1</td>\n",
       "      <td>0</td>\n",
       "    </tr>\n",
       "    <tr>\n",
       "      <td>18231</td>\n",
       "      <td>60304</td>\n",
       "      <td>17635</td>\n",
       "      <td>145</td>\n",
       "      <td>85.0</td>\n",
       "      <td>99</td>\n",
       "      <td>92.0</td>\n",
       "      <td>51.931</td>\n",
       "      <td>1</td>\n",
       "      <td>0</td>\n",
       "    </tr>\n",
       "    <tr>\n",
       "      <td>18232</td>\n",
       "      <td>23152</td>\n",
       "      <td>7835</td>\n",
       "      <td>131</td>\n",
       "      <td>60.0</td>\n",
       "      <td>19</td>\n",
       "      <td>39.5</td>\n",
       "      <td>61.039</td>\n",
       "      <td>1</td>\n",
       "      <td>0</td>\n",
       "    </tr>\n",
       "  </tbody>\n",
       "</table>\n",
       "</div>"
      ],
      "text/plain": [
       "       match_id  lead_id  agent_id  email_score  phone_score  contact_score  block_score  contact  app\n",
       "18228    132655    34142       230         80.0           68           74.0       72.635        1    0\n",
       "18229    117320    28132       206         80.0           98           89.0       68.594        1    0\n",
       "18230     28938    11026       192         85.0           92           88.5       57.353        1    0\n",
       "18231     60304    17635       145         85.0           99           92.0       51.931        1    0\n",
       "18232     23152     7835       131         60.0           19           39.5       61.039        1    0"
      ]
     },
     "execution_count": 7,
     "metadata": {},
     "output_type": "execute_result"
    }
   ],
   "source": [
    "contacted_leads.tail()"
   ]
  },
  {
   "cell_type": "code",
   "execution_count": 8,
   "metadata": {},
   "outputs": [
    {
     "data": {
      "text/plain": [
       "match_id         False\n",
       "lead_id          False\n",
       "agent_id         False\n",
       "email_score      False\n",
       "phone_score      False\n",
       "contact_score    False\n",
       "block_score      False\n",
       "contact          False\n",
       "app              False\n",
       "dtype: bool"
      ]
     },
     "execution_count": 8,
     "metadata": {},
     "output_type": "execute_result"
    }
   ],
   "source": [
    "contacted_leads.isnull().any()"
   ]
  },
  {
   "cell_type": "code",
   "execution_count": 9,
   "metadata": {},
   "outputs": [
    {
     "data": {
      "text/html": [
       "<div>\n",
       "<style scoped>\n",
       "    .dataframe tbody tr th:only-of-type {\n",
       "        vertical-align: middle;\n",
       "    }\n",
       "\n",
       "    .dataframe tbody tr th {\n",
       "        vertical-align: top;\n",
       "    }\n",
       "\n",
       "    .dataframe thead th {\n",
       "        text-align: right;\n",
       "    }\n",
       "</style>\n",
       "<table border=\"1\" class=\"dataframe\">\n",
       "  <thead>\n",
       "    <tr style=\"text-align: right;\">\n",
       "      <th></th>\n",
       "      <th>email_score</th>\n",
       "      <th>phone_score</th>\n",
       "      <th>contact_score</th>\n",
       "      <th>block_score</th>\n",
       "      <th>app</th>\n",
       "    </tr>\n",
       "  </thead>\n",
       "  <tbody>\n",
       "    <tr>\n",
       "      <td>0</td>\n",
       "      <td>80.0</td>\n",
       "      <td>99</td>\n",
       "      <td>89.5</td>\n",
       "      <td>63.033</td>\n",
       "      <td>0</td>\n",
       "    </tr>\n",
       "    <tr>\n",
       "      <td>1</td>\n",
       "      <td>85.0</td>\n",
       "      <td>65</td>\n",
       "      <td>75.0</td>\n",
       "      <td>57.398</td>\n",
       "      <td>0</td>\n",
       "    </tr>\n",
       "    <tr>\n",
       "      <td>2</td>\n",
       "      <td>85.0</td>\n",
       "      <td>99</td>\n",
       "      <td>92.0</td>\n",
       "      <td>73.182</td>\n",
       "      <td>1</td>\n",
       "    </tr>\n",
       "    <tr>\n",
       "      <td>3</td>\n",
       "      <td>95.0</td>\n",
       "      <td>99</td>\n",
       "      <td>97.0</td>\n",
       "      <td>51.631</td>\n",
       "      <td>0</td>\n",
       "    </tr>\n",
       "    <tr>\n",
       "      <td>4</td>\n",
       "      <td>30.0</td>\n",
       "      <td>96</td>\n",
       "      <td>63.0</td>\n",
       "      <td>84.483</td>\n",
       "      <td>0</td>\n",
       "    </tr>\n",
       "    <tr>\n",
       "      <td>...</td>\n",
       "      <td>...</td>\n",
       "      <td>...</td>\n",
       "      <td>...</td>\n",
       "      <td>...</td>\n",
       "      <td>...</td>\n",
       "    </tr>\n",
       "    <tr>\n",
       "      <td>18228</td>\n",
       "      <td>80.0</td>\n",
       "      <td>68</td>\n",
       "      <td>74.0</td>\n",
       "      <td>72.635</td>\n",
       "      <td>0</td>\n",
       "    </tr>\n",
       "    <tr>\n",
       "      <td>18229</td>\n",
       "      <td>80.0</td>\n",
       "      <td>98</td>\n",
       "      <td>89.0</td>\n",
       "      <td>68.594</td>\n",
       "      <td>0</td>\n",
       "    </tr>\n",
       "    <tr>\n",
       "      <td>18230</td>\n",
       "      <td>85.0</td>\n",
       "      <td>92</td>\n",
       "      <td>88.5</td>\n",
       "      <td>57.353</td>\n",
       "      <td>0</td>\n",
       "    </tr>\n",
       "    <tr>\n",
       "      <td>18231</td>\n",
       "      <td>85.0</td>\n",
       "      <td>99</td>\n",
       "      <td>92.0</td>\n",
       "      <td>51.931</td>\n",
       "      <td>0</td>\n",
       "    </tr>\n",
       "    <tr>\n",
       "      <td>18232</td>\n",
       "      <td>60.0</td>\n",
       "      <td>19</td>\n",
       "      <td>39.5</td>\n",
       "      <td>61.039</td>\n",
       "      <td>0</td>\n",
       "    </tr>\n",
       "  </tbody>\n",
       "</table>\n",
       "<p>18233 rows × 5 columns</p>\n",
       "</div>"
      ],
      "text/plain": [
       "       email_score  phone_score  contact_score  block_score  app\n",
       "0             80.0           99           89.5       63.033    0\n",
       "1             85.0           65           75.0       57.398    0\n",
       "2             85.0           99           92.0       73.182    1\n",
       "3             95.0           99           97.0       51.631    0\n",
       "4             30.0           96           63.0       84.483    0\n",
       "...            ...          ...            ...          ...  ...\n",
       "18228         80.0           68           74.0       72.635    0\n",
       "18229         80.0           98           89.0       68.594    0\n",
       "18230         85.0           92           88.5       57.353    0\n",
       "18231         85.0           99           92.0       51.931    0\n",
       "18232         60.0           19           39.5       61.039    0\n",
       "\n",
       "[18233 rows x 5 columns]"
      ]
     },
     "execution_count": 9,
     "metadata": {},
     "output_type": "execute_result"
    }
   ],
   "source": [
    "## Remove extra features\n",
    "non_feature_list = ['match_id', 'lead_id', 'agent_id', 'contact']\n",
    "contacted_leads_min = contacted_leads.copy()\n",
    "contacted_leads_min.drop(columns = non_feature_list, inplace = True)\n",
    "contacted_leads_min"
   ]
  },
  {
   "cell_type": "code",
   "execution_count": 10,
   "metadata": {},
   "outputs": [
    {
     "data": {
      "text/plain": [
       "(12763.099999999999, 5469.9)"
      ]
     },
     "execution_count": 10,
     "metadata": {},
     "output_type": "execute_result"
    }
   ],
   "source": [
    "## Do a 70/30 split for training and testing\n",
    "len(contacted_leads_min) * .7, len(contacted_leads_min) * .3"
   ]
  },
  {
   "cell_type": "code",
   "execution_count": 11,
   "metadata": {},
   "outputs": [],
   "source": [
    "## Split into attributes and labels\n",
    "X = contacted_leads_min.iloc[:, :-1]\n",
    "y = contacted_leads_min.iloc[:, 4]"
   ]
  },
  {
   "cell_type": "code",
   "execution_count": 12,
   "metadata": {},
   "outputs": [],
   "source": [
    "X_train, X_test, y_train, y_test = train_test_split(X, y, test_size = 0.3, random_state = 42)"
   ]
  },
  {
   "cell_type": "code",
   "execution_count": 13,
   "metadata": {},
   "outputs": [
    {
     "data": {
      "text/plain": [
       "((12763, 4), (5470, 4))"
      ]
     },
     "execution_count": 13,
     "metadata": {},
     "output_type": "execute_result"
    }
   ],
   "source": [
    "X_train.shape, X_test.shape"
   ]
  },
  {
   "cell_type": "code",
   "execution_count": 14,
   "metadata": {},
   "outputs": [
    {
     "data": {
      "text/plain": [
       "((12763,), (5470,))"
      ]
     },
     "execution_count": 14,
     "metadata": {},
     "output_type": "execute_result"
    }
   ],
   "source": [
    "y_train.shape, y_test.shape"
   ]
  },
  {
   "cell_type": "code",
   "execution_count": 15,
   "metadata": {},
   "outputs": [
    {
     "data": {
      "text/plain": [
       "email_score      float64\n",
       "phone_score        int64\n",
       "contact_score    float64\n",
       "block_score      float64\n",
       "dtype: object"
      ]
     },
     "execution_count": 15,
     "metadata": {},
     "output_type": "execute_result"
    }
   ],
   "source": [
    "X_train.dtypes"
   ]
  },
  {
   "cell_type": "code",
   "execution_count": 16,
   "metadata": {},
   "outputs": [
    {
     "data": {
      "text/plain": [
       "email_score      float64\n",
       "phone_score        int64\n",
       "contact_score    float64\n",
       "block_score      float64\n",
       "dtype: object"
      ]
     },
     "execution_count": 16,
     "metadata": {},
     "output_type": "execute_result"
    }
   ],
   "source": [
    "X_test.dtypes"
   ]
  },
  {
   "cell_type": "code",
   "execution_count": 17,
   "metadata": {},
   "outputs": [],
   "source": [
    "## Scale features, though the scores already seem to be out of 100\n",
    "scaler = StandardScaler()\n",
    "scaler.fit(X_train)\n",
    "\n",
    "X_tr_scaled = scaler.transform(X_train)\n",
    "X_te_scaled = scaler.transform(X_test)"
   ]
  },
  {
   "cell_type": "code",
   "execution_count": 18,
   "metadata": {},
   "outputs": [],
   "source": [
    "X_tr = pd.DataFrame(X_tr_scaled, index = X_train.index, columns = X_train.columns)\n",
    "X_te = pd.DataFrame(X_te_scaled, index = X_test.index, columns = X_test.columns)"
   ]
  },
  {
   "cell_type": "code",
   "execution_count": 19,
   "metadata": {},
   "outputs": [
    {
     "data": {
      "text/plain": [
       "KNeighborsClassifier(algorithm='auto', leaf_size=30, metric='minkowski',\n",
       "                     metric_params=None, n_jobs=None, n_neighbors=2, p=2,\n",
       "                     weights='uniform')"
      ]
     },
     "execution_count": 19,
     "metadata": {},
     "output_type": "execute_result"
    }
   ],
   "source": [
    "## Test KNN classifier\n",
    "knn_class = KNeighborsClassifier(n_neighbors = 2)\n",
    "knn_class.fit(X_train, y_train)"
   ]
  },
  {
   "cell_type": "code",
   "execution_count": 20,
   "metadata": {},
   "outputs": [
    {
     "data": {
      "text/plain": [
       "array([0, 0, 0, ..., 0, 0, 0], dtype=int64)"
      ]
     },
     "execution_count": 20,
     "metadata": {},
     "output_type": "execute_result"
    }
   ],
   "source": [
    "y_pred = knn_class.predict(X_test)\n",
    "y_pred"
   ]
  },
  {
   "cell_type": "code",
   "execution_count": 21,
   "metadata": {},
   "outputs": [
    {
     "name": "stdout",
     "output_type": "stream",
     "text": [
      "[[5129   19]\n",
      " [ 319    3]]\n",
      "              precision    recall  f1-score   support\n",
      "\n",
      "           0       0.94      1.00      0.97      5148\n",
      "           1       0.14      0.01      0.02       322\n",
      "\n",
      "    accuracy                           0.94      5470\n",
      "   macro avg       0.54      0.50      0.49      5470\n",
      "weighted avg       0.89      0.94      0.91      5470\n",
      "\n",
      "0.9416987181879269\n"
     ]
    }
   ],
   "source": [
    "## Evaluate the model\n",
    "print(confusion_matrix(y_test, y_pred))\n",
    "print(classification_report(y_test, y_pred))\n",
    "print(cross_val_score(knn_class, X, y, cv=10, scoring='accuracy').mean())"
   ]
  },
  {
   "cell_type": "code",
   "execution_count": 22,
   "metadata": {},
   "outputs": [],
   "source": [
    "## Pick best K through error analysis\n",
    "error = []\n",
    "\n",
    "for i in range(1, 40):\n",
    "    knn = KNeighborsClassifier(n_neighbors=i)\n",
    "    knn.fit(X_train, y_train)\n",
    "    pred_i = knn.predict(X_test)\n",
    "    error.append(np.mean(pred_i != y_test))"
   ]
  },
  {
   "cell_type": "code",
   "execution_count": 23,
   "metadata": {},
   "outputs": [
    {
     "data": {
      "text/plain": [
       "Text(0, 0.5, 'Mean Error')"
      ]
     },
     "execution_count": 23,
     "metadata": {},
     "output_type": "execute_result"
    },
    {
     "data": {
      "image/png": "[encoded data removed]",
      "text/plain": [
       "<Figure size 864x432 with 1 Axes>"
      ]
     },
     "metadata": {
      "needs_background": "light"
     },
     "output_type": "display_data"
    }
   ],
   "source": [
    "plt.figure(figsize=(12, 6))\n",
    "plt.plot(range(1, 40), error, color='red', linestyle='dashed', marker='o',\n",
    "         markerfacecolor='blue', markersize=10)\n",
    "plt.title('Error Rate K Value')\n",
    "plt.xlabel('K Value')\n",
    "plt.ylabel('Mean Error')"
   ]
  },
  {
   "cell_type": "markdown",
   "metadata": {},
   "source": [
    "Looks like a K of 6-40 gives the least mean error, however, too many neighbors would result in overfitting, so I would pick around 3-5 for K."
   ]
  },
  {
   "cell_type": "code",
   "execution_count": 24,
   "metadata": {},
   "outputs": [
    {
     "name": "stdout",
     "output_type": "stream",
     "text": [
      "[[5140    8]\n",
      " [ 321    1]]\n",
      "              precision    recall  f1-score   support\n",
      "\n",
      "           0       0.94      1.00      0.97      5148\n",
      "           1       0.11      0.00      0.01       322\n",
      "\n",
      "    accuracy                           0.94      5470\n",
      "   macro avg       0.53      0.50      0.49      5470\n",
      "weighted avg       0.89      0.94      0.91      5470\n",
      "\n",
      "0.9428509063820776\n"
     ]
    }
   ],
   "source": [
    "knn_class = KNeighborsClassifier(n_neighbors = 5)\n",
    "knn_class.fit(X_train, y_train)\n",
    "y_pred = knn_class.predict(X_test)\n",
    "print(confusion_matrix(y_test, y_pred))\n",
    "print(classification_report(y_test, y_pred))\n",
    "print(cross_val_score(knn_class, X, y, cv=10, scoring='accuracy').mean())"
   ]
  },
  {
   "cell_type": "code",
   "execution_count": 25,
   "metadata": {},
   "outputs": [],
   "source": [
    "KNN_pipe = make_pipeline(\n",
    "    SimpleImputer(strategy = 'median'),\n",
    "    StandardScaler(),\n",
    "    KNeighborsClassifier(n_neighbors = 5)\n",
    ")"
   ]
  },
  {
   "cell_type": "code",
   "execution_count": 26,
   "metadata": {},
   "outputs": [],
   "source": [
    "## Save model\n",
    "best_model = KNN_pipe\n",
    "best_model.version = '1.0'\n",
    "best_model.pandas_version = pd.__version__\n",
    "best_model.numpy_version = np.__version__\n",
    "best_model.sklearn_version = sklearn_version\n",
    "best_model.X_columns = [col for col in X_train.columns]\n",
    "best_model.build_datetime = datetime.datetime.now()"
   ]
  },
  {
   "cell_type": "code",
   "execution_count": 27,
   "metadata": {},
   "outputs": [
    {
     "name": "stdout",
     "output_type": "stream",
     "text": [
      "A file already exists with this name.\n",
      "\n",
      "Do you want to overwrite? (Y/N)Y\n",
      "Writing file.  \"../models\\lead_data_prediction_score.pkl\"\n"
     ]
    }
   ],
   "source": [
    "modelpath = '../models'\n",
    "save_file(best_model, 'lead_data_prediction_score.pkl', modelpath)"
   ]
  }
 ],
 "metadata": {
  "kernelspec": {
   "display_name": "Python 3",
   "language": "python",
   "name": "python3"
  },
  "language_info": {
   "codemirror_mode": {
    "name": "ipython",
    "version": 3
   },
   "file_extension": ".py",
   "mimetype": "text/x-python",
   "name": "python",
   "nbconvert_exporter": "python",
   "pygments_lexer": "ipython3",
   "version": "3.7.4"
  }
 },
 "nbformat": 4,
 "nbformat_minor": 2
}
